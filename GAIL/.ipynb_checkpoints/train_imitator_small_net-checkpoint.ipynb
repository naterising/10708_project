{
 "cells": [
  {
   "cell_type": "code",
   "execution_count": 91,
   "id": "11f9c165",
   "metadata": {
    "id": "11f9c165",
    "tags": []
   },
   "outputs": [],
   "source": [
    "import numpy as np\n",
    "import pandas as pd\n",
    "import torch\n",
    "import torch.nn as nn\n",
    "from torch.utils.data import DataLoader, TensorDataset\n",
    "import random\n",
    "import pickle\n",
    "import torch.optim as optim\n",
    "\n",
    "#import sys\n",
    "#sys.path.append('../simulations')\n",
    "import game_utils"
   ]
  },
  {
   "cell_type": "code",
   "execution_count": 92,
   "id": "2d5bade9",
   "metadata": {
    "id": "2d5bade9",
    "tags": []
   },
   "outputs": [],
   "source": [
    "# define helper functions needed to generate a state space\n",
    "def get_action_number():\n",
    "    \"\"\"\n",
    "    Return 0 with prop .5, 1 with prob .5\n",
    "    \"\"\"\n",
    "    p = random.random()\n",
    "    if p <= 0.5:\n",
    "        return 0\n",
    "    else:\n",
    "        return 1\n",
    "\n",
    "def get_banked_score():\n",
    "    \"\"\"\n",
    "    Returns a number 0 to 11000\n",
    "\n",
    "    If the score is over 10000, resample until a score less than 10000\n",
    "    is reached with probability 0.5\n",
    "\n",
    "    \"\"\"\n",
    "\n",
    "    n = random.randint(0, 11000)\n",
    "    p = random.random()\n",
    "\n",
    "    if n > 10000 and p > .5:\n",
    "        n = random.randint(0,10000)\n",
    "\n",
    "    return round(n / 50) * 50\n",
    "\n",
    "\n",
    "def get_dice_num():\n",
    "    \"\"\"\n",
    "    Generates a number between 1 and 6 (inclusive)\n",
    "\n",
    "    Can be used to represent the number of dice available to roll or the\n",
    "    value a dice takes on\n",
    "\n",
    "    \"\"\"\n",
    "    return random.randint(1,6)\n",
    "\n",
    "def get_accrued_score():\n",
    "    \"\"\"\n",
    "    Generates a value for the accrued score.\n",
    "    1. Choose a bucket with some probability\n",
    "    2. Randomly pick a number from that bucket\n",
    "    \"\"\"\n",
    "\n",
    "    p = random.random()\n",
    "\n",
    "    # pull from [50,1000]\n",
    "    if p <= .3:\n",
    "        lo = 0\n",
    "        hi = 0\n",
    "\n",
    "    elif p <= .72:\n",
    "        lo = 50\n",
    "        hi = 1000\n",
    "\n",
    "    # pull from [1000,2000]\n",
    "    elif p <= 0.895:\n",
    "        lo = 1000\n",
    "        hi = 2000\n",
    "\n",
    "    # pull from [2000,5000]\n",
    "    elif p <= 0.965:\n",
    "        lo = 2000\n",
    "        hi = 5000\n",
    "\n",
    "    # pull from [5000,10000]\n",
    "    else:\n",
    "        lo = 5000\n",
    "        hi = 10000\n",
    "\n",
    "    return round(random.randint(lo,hi) / 50) * 50\n",
    "\n",
    "def roll_dice(n):\n",
    "    \"\"\"\n",
    "    Rolls n dice\n",
    "    \"\"\"\n",
    "    possible_values = [1,2,3,4,5,6]\n",
    "\n",
    "    roll = []\n",
    "    for i in range(n):\n",
    "        roll.append(random.choice(possible_values))\n",
    "\n",
    "    return tuple(sorted(roll))\n",
    "\n",
    "\n",
    "# write a function to generate a state space vector\n",
    "def get_state():\n",
    "    action = get_action_number()\n",
    "    player_score = get_banked_score()\n",
    "    opp_score = get_banked_score()\n",
    "    accrued_score = get_accrued_score()\n",
    "    num_dice = get_dice_num()\n",
    "    dice = list(np.zeros(6).astype(int))\n",
    "\n",
    "    # simulate a dice roll if action is to choose dice\n",
    "    if action == 1:\n",
    "\n",
    "        # if the number of dice to choose from for an action=1, resample until\n",
    "        # you get num dice > 1. This is becuase this decision is deterministic\n",
    "        while num_dice == 1:\n",
    "            num_dice = get_dice_num()\n",
    "\n",
    "        # make sure the roll is scoring, a non-scoring roll is deterministic\n",
    "        roll = roll_dice(num_dice)\n",
    "        while game_utils.get_highest_choice(game_utils.get_possible_choices(roll)) == 0:\n",
    "            roll = roll_dice(num_dice)\n",
    "\n",
    "        for j in range(num_dice):\n",
    "            dice[j] = get_dice_num()\n",
    "\n",
    "    state = [action, player_score, opp_score, accrued_score, num_dice, dice[0], dice[1], dice[2], dice[3],dice[4],dice[5]]\n",
    "    return torch.tensor(state).float()\n",
    "\n"
   ]
  },
  {
   "cell_type": "code",
   "execution_count": 93,
   "id": "a24b8673",
   "metadata": {
    "id": "a24b8673",
    "tags": []
   },
   "outputs": [
    {
     "name": "stdout",
     "output_type": "stream",
     "text": [
      "Running: cpu\n"
     ]
    }
   ],
   "source": [
    "# define dataloader hyper params\n",
    "BATCH_SIZE = 64\n",
    "SHUFFLE = True   # Set to True if you want to shuffle the data\n",
    "VAL_SIZE = 1280\n",
    "\n",
    "# train on GPU if available\n",
    "device = torch.device('cuda' if torch.cuda.is_available() else 'cpu')\n",
    "print(\"Running: \"+str(device))"
   ]
  },
  {
   "cell_type": "code",
   "execution_count": 95,
   "id": "0f890ee3",
   "metadata": {
    "id": "0f890ee3",
    "tags": []
   },
   "outputs": [
    {
     "name": "stdout",
     "output_type": "stream",
     "text": [
      "Expert data: torch.Size([638720, 17])\n"
     ]
    }
   ],
   "source": [
    "# load in expert data, concatenate state and response, label with 1's\n",
    "#expert_data = pd.read_csv('../simulations/expert_behavior.csv')\n",
    "expert_data_df = pd.read_csv(\"expert_behavior_640k.csv\")\n",
    "expert_data_df['label'] = 1\n",
    "\n",
    "inputs = torch.tensor(expert_data_df.drop('label', axis=1).values, dtype=torch.float32).to(device)\n",
    "labels = torch.tensor(expert_data_df['label'].values, dtype=torch.float32).to(device)\n",
    "\n",
    "# normalize the inputs\n",
    "inputs = torch.nn.functional.normalize(inputs, dim=1)\n",
    "\n",
    "# save off validation set\n",
    "expert_val_inputs = inputs[:VAL_SIZE]\n",
    "expert_val_labels = labels[:VAL_SIZE]\n",
    "\n",
    "inputs = inputs[VAL_SIZE:]\n",
    "labels = labels[VAL_SIZE:]\n",
    "\n",
    "expert_data = TensorDataset(inputs, labels)\n",
    "expert_data_loader = DataLoader(expert_data, batch_size=BATCH_SIZE, shuffle=SHUFFLE)\n",
    "\n",
    "print(\"Expert data: \"+str(inputs.shape))"
   ]
  },
  {
   "cell_type": "code",
   "execution_count": 110,
   "id": "dbcc047d-80b6-4568-858a-f4af663948e9",
   "metadata": {
    "colab": {
     "base_uri": "https://localhost:8080/"
    },
    "id": "dbcc047d-80b6-4568-858a-f4af663948e9",
    "outputId": "392a97ca-2884-4d33-f381-bbd65a141e31",
    "tags": []
   },
   "outputs": [
    {
     "name": "stdout",
     "output_type": "stream",
     "text": [
      "Random data: torch.Size([638720, 11])\n"
     ]
    }
   ],
   "source": [
    "# generate a large matrix of noise and keep it on the device.\n",
    "# Each time a batch of generated data is needed, it will sample this vector\n",
    "num_states = len(expert_data_df)\n",
    "\n",
    "random_states = []\n",
    "for _ in range(num_states):\n",
    "    state = get_state()\n",
    "    random_states.append(state)\n",
    "\n",
    "random_states = torch.stack(random_states, dim=0).to(device)\n",
    "labels = torch.zeros(len(expert_data_df)).float().to(device)\n",
    "\n",
    "# normalize the states\n",
    "random_states = torch.nn.functional.normalize(random_states,dim=1)\n",
    "\n",
    "# extract a validation set\n",
    "random_val_inputs = random_states[:VAL_SIZE]\n",
    "random_val_labels = labels[:VAL_SIZE]\n",
    "\n",
    "random_states = random_states[VAL_SIZE:]\n",
    "labels = labels[VAL_SIZE:]\n",
    "\n",
    "random_data = TensorDataset(random_states, labels)\n",
    "random_loader = DataLoader(random_data, batch_size=BATCH_SIZE, shuffle=SHUFFLE)\n",
    "\n",
    "print(\"Random data: \"+str(random_states.shape))"
   ]
  },
  {
   "cell_type": "code",
   "execution_count": 111,
   "id": "ed81dfd5",
   "metadata": {
    "id": "ed81dfd5",
    "tags": []
   },
   "outputs": [],
   "source": [
    "# function to return a batch of labeled expert data\n",
    "def get_expert_batch(expert_data_loader):\n",
    "    batch_inputs, batch_labels = next(iter(expert_data_loader))\n",
    "\n",
    "    return batch_inputs, batch_labels"
   ]
  },
  {
   "cell_type": "code",
   "execution_count": 112,
   "id": "dbfb3901",
   "metadata": {
    "id": "dbfb3901",
    "tags": []
   },
   "outputs": [],
   "source": [
    "# function to return a batch of labeled imitator data\n",
    "# requires starting from some space\n",
    "def get_imitator_batch(imitator, z, labels, device):\n",
    "    \n",
    "    z.to(device)\n",
    "    im_out = imitator.forward(z)\n",
    "        \n",
    "    # concatenate z and outputs along 2nd dimension\n",
    "    inputs = torch.cat((z, im_out), dim=1)\n",
    "    \n",
    "    return inputs, labels.to(device)"
   ]
  },
  {
   "cell_type": "code",
   "execution_count": 113,
   "id": "2c0ca55a",
   "metadata": {
    "id": "2c0ca55a",
    "tags": []
   },
   "outputs": [],
   "source": [
    "# define imitator (generator) network\n",
    "class Imitator(nn.Module):\n",
    "    def __init__(self, indim, outdim):\n",
    "        super(Imitator, self).__init__()\n",
    "        self.fc1 = nn.Linear(indim, 16)\n",
    "        self.fc2 = nn.Linear(16, outdim)\n",
    "\n",
    "        self.leaky_relu = nn.LeakyReLU()\n",
    "        self.sigmoid = nn.Sigmoid()\n",
    "        \n",
    "        self.init_weights()\n",
    "        \n",
    "    def init_weights(self):\n",
    "        torch.nn.init.xavier_uniform_(self.fc1.weight)\n",
    "        torch.nn.init.xavier_uniform_(self.fc2.weight)\n",
    "        \n",
    "\n",
    "    def forward(self, x):\n",
    "        x = self.leaky_relu(self.fc1(x))\n",
    "        x = self.sigmoid(self.fc2(x))\n",
    "\n",
    "        # round values to be either 0 or 1\n",
    "        return torch.round(x)"
   ]
  },
  {
   "cell_type": "code",
   "execution_count": 114,
   "id": "8ebe940c",
   "metadata": {
    "id": "8ebe940c",
    "tags": []
   },
   "outputs": [],
   "source": [
    "# define discriminator network\n",
    "# this network outputs the probability that an input vector is from Imitator\n",
    "class Discriminator(nn.Module):\n",
    "    def __init__(self, indim):\n",
    "        super(Discriminator, self).__init__()\n",
    "        self.fc1 = nn.Linear(indim, 16)\n",
    "        self.fc2 = nn.Linear(16, 1)\n",
    "\n",
    "        self.leaky_relu = nn.LeakyReLU()\n",
    "        self.sigmoid = nn.Sigmoid()\n",
    "        \n",
    "        self.init_weights()\n",
    "    \n",
    "    def init_weights(self):\n",
    "        torch.nn.init.xavier_uniform_(self.fc1.weight)\n",
    "        torch.nn.init.xavier_uniform_(self.fc2.weight)\n",
    "\n",
    "    def forward(self, x):\n",
    "\n",
    "        x = self.leaky_relu(self.fc1(x))\n",
    "        x = self.sigmoid(self.fc2(x))\n",
    "\n",
    "        return x\n"
   ]
  },
  {
   "cell_type": "code",
   "execution_count": 115,
   "id": "7a434bb7",
   "metadata": {},
   "outputs": [],
   "source": [
    "def checkpoint(imitator, discriminator, im_losses, dscrm_losses, epoch):\n",
    "    # save model outputs\n",
    "    torch.save(discriminator.state_dict(), 'checkpoints/discriminator_'+str(epoch)+'.pth')\n",
    "    torch.save(imitator.state_dict(),'checkpoints/imitator_'+str(epoch)+'.pth')\n",
    "    with open('checkpoints/losses_'+str(epoch)+'.pkl', 'wb') as f:\n",
    "        pickle.dump((im_losses, dscrm_losses), f)"
   ]
  },
  {
   "cell_type": "code",
   "execution_count": 128,
   "id": "869040cd",
   "metadata": {
    "colab": {
     "base_uri": "https://localhost:8080/"
    },
    "id": "869040cd",
    "outputId": "2d980a4a-cb3a-42d6-bce8-74f548a7e237",
    "tags": []
   },
   "outputs": [
    {
     "name": "stdout",
     "output_type": "stream",
     "text": [
      "running epoch 0...\n",
      "Finished running epoch: 0...\n",
      "running epoch 1...\n",
      "running epoch 2...\n",
      "running epoch 3...\n",
      "running epoch 4...\n"
     ]
    },
    {
     "ename": "KeyboardInterrupt",
     "evalue": "",
     "output_type": "error",
     "traceback": [
      "\u001b[1;31m---------------------------------------------------------------------------\u001b[0m",
      "\u001b[1;31mKeyboardInterrupt\u001b[0m                         Traceback (most recent call last)",
      "Cell \u001b[1;32mIn[128], line 57\u001b[0m\n\u001b[0;32m     55\u001b[0m expert_output \u001b[38;5;241m=\u001b[39m discriminator\u001b[38;5;241m.\u001b[39mforward(expert_X)\u001b[38;5;241m.\u001b[39msqueeze(dim\u001b[38;5;241m=\u001b[39m\u001b[38;5;241m1\u001b[39m)\n\u001b[0;32m     56\u001b[0m lossD_expert \u001b[38;5;241m=\u001b[39m loss(expert_output, expert_Y)\n\u001b[1;32m---> 57\u001b[0m \u001b[43mlossD_expert\u001b[49m\u001b[38;5;241;43m.\u001b[39;49m\u001b[43mbackward\u001b[49m\u001b[43m(\u001b[49m\u001b[43m)\u001b[49m\n\u001b[0;32m     59\u001b[0m \u001b[38;5;66;03m# pass with imitator data\u001b[39;00m\n\u001b[0;32m     60\u001b[0m batch \u001b[38;5;241m=\u001b[39m \u001b[38;5;28mnext\u001b[39m(random_loader_iterator)\n",
      "File \u001b[1;32m~\\anaconda3\\lib\\site-packages\\torch\\_tensor.py:492\u001b[0m, in \u001b[0;36mTensor.backward\u001b[1;34m(self, gradient, retain_graph, create_graph, inputs)\u001b[0m\n\u001b[0;32m    482\u001b[0m \u001b[38;5;28;01mif\u001b[39;00m has_torch_function_unary(\u001b[38;5;28mself\u001b[39m):\n\u001b[0;32m    483\u001b[0m     \u001b[38;5;28;01mreturn\u001b[39;00m handle_torch_function(\n\u001b[0;32m    484\u001b[0m         Tensor\u001b[38;5;241m.\u001b[39mbackward,\n\u001b[0;32m    485\u001b[0m         (\u001b[38;5;28mself\u001b[39m,),\n\u001b[1;32m   (...)\u001b[0m\n\u001b[0;32m    490\u001b[0m         inputs\u001b[38;5;241m=\u001b[39minputs,\n\u001b[0;32m    491\u001b[0m     )\n\u001b[1;32m--> 492\u001b[0m \u001b[43mtorch\u001b[49m\u001b[38;5;241;43m.\u001b[39;49m\u001b[43mautograd\u001b[49m\u001b[38;5;241;43m.\u001b[39;49m\u001b[43mbackward\u001b[49m\u001b[43m(\u001b[49m\n\u001b[0;32m    493\u001b[0m \u001b[43m    \u001b[49m\u001b[38;5;28;43mself\u001b[39;49m\u001b[43m,\u001b[49m\u001b[43m \u001b[49m\u001b[43mgradient\u001b[49m\u001b[43m,\u001b[49m\u001b[43m \u001b[49m\u001b[43mretain_graph\u001b[49m\u001b[43m,\u001b[49m\u001b[43m \u001b[49m\u001b[43mcreate_graph\u001b[49m\u001b[43m,\u001b[49m\u001b[43m \u001b[49m\u001b[43minputs\u001b[49m\u001b[38;5;241;43m=\u001b[39;49m\u001b[43minputs\u001b[49m\n\u001b[0;32m    494\u001b[0m \u001b[43m\u001b[49m\u001b[43m)\u001b[49m\n",
      "File \u001b[1;32m~\\anaconda3\\lib\\site-packages\\torch\\autograd\\__init__.py:251\u001b[0m, in \u001b[0;36mbackward\u001b[1;34m(tensors, grad_tensors, retain_graph, create_graph, grad_variables, inputs)\u001b[0m\n\u001b[0;32m    246\u001b[0m     retain_graph \u001b[38;5;241m=\u001b[39m create_graph\n\u001b[0;32m    248\u001b[0m \u001b[38;5;66;03m# The reason we repeat the same comment below is that\u001b[39;00m\n\u001b[0;32m    249\u001b[0m \u001b[38;5;66;03m# some Python versions print out the first line of a multi-line function\u001b[39;00m\n\u001b[0;32m    250\u001b[0m \u001b[38;5;66;03m# calls in the traceback and some print out the last line\u001b[39;00m\n\u001b[1;32m--> 251\u001b[0m \u001b[43mVariable\u001b[49m\u001b[38;5;241;43m.\u001b[39;49m\u001b[43m_execution_engine\u001b[49m\u001b[38;5;241;43m.\u001b[39;49m\u001b[43mrun_backward\u001b[49m\u001b[43m(\u001b[49m\u001b[43m  \u001b[49m\u001b[38;5;66;43;03m# Calls into the C++ engine to run the backward pass\u001b[39;49;00m\n\u001b[0;32m    252\u001b[0m \u001b[43m    \u001b[49m\u001b[43mtensors\u001b[49m\u001b[43m,\u001b[49m\n\u001b[0;32m    253\u001b[0m \u001b[43m    \u001b[49m\u001b[43mgrad_tensors_\u001b[49m\u001b[43m,\u001b[49m\n\u001b[0;32m    254\u001b[0m \u001b[43m    \u001b[49m\u001b[43mretain_graph\u001b[49m\u001b[43m,\u001b[49m\n\u001b[0;32m    255\u001b[0m \u001b[43m    \u001b[49m\u001b[43mcreate_graph\u001b[49m\u001b[43m,\u001b[49m\n\u001b[0;32m    256\u001b[0m \u001b[43m    \u001b[49m\u001b[43minputs\u001b[49m\u001b[43m,\u001b[49m\n\u001b[0;32m    257\u001b[0m \u001b[43m    \u001b[49m\u001b[43mallow_unreachable\u001b[49m\u001b[38;5;241;43m=\u001b[39;49m\u001b[38;5;28;43;01mTrue\u001b[39;49;00m\u001b[43m,\u001b[49m\n\u001b[0;32m    258\u001b[0m \u001b[43m    \u001b[49m\u001b[43maccumulate_grad\u001b[49m\u001b[38;5;241;43m=\u001b[39;49m\u001b[38;5;28;43;01mTrue\u001b[39;49;00m\u001b[43m,\u001b[49m\n\u001b[0;32m    259\u001b[0m \u001b[43m\u001b[49m\u001b[43m)\u001b[49m\n",
      "\u001b[1;31mKeyboardInterrupt\u001b[0m: "
     ]
    }
   ],
   "source": [
    "# set up and run the GAN\n",
    "torch.autograd.set_detect_anomaly(True)\n",
    "\n",
    "state_dim = 11\n",
    "imitator_outdim = 6\n",
    "discriminator_indim = 17\n",
    "\n",
    "NUM_EPOCHS = 200\n",
    "\n",
    "# determines how often discrminiator is trained vs generator\n",
    "DISCRIMINATOR_TRAIN_RATIO = 5\n",
    "\n",
    "# todo: determine number of batches\n",
    "NUM_BATCHES = int(len(expert_data_df)/BATCH_SIZE/DISCRIMINATOR_TRAIN_RATIO)\n",
    "\n",
    "# define hyperparameters\n",
    "im_LR = 0.0001\n",
    "dscrm_LR = 0.0001\n",
    "\n",
    "\n",
    "# initialize networks\n",
    "imitator = Imitator(state_dim, imitator_outdim).to(device)\n",
    "discriminator = Discriminator(discriminator_indim).to(device)\n",
    "\n",
    "# initialize loss functions, optmiizers\n",
    "im_optim = optim.Adam(imitator.parameters(), lr=im_LR)\n",
    "dscrm_optim = optim.Adam(imitator.parameters(), lr=dscrm_LR)\n",
    "\n",
    "# initialize loss function\n",
    "loss = nn.BCELoss()\n",
    "\n",
    "im_test_losses = []\n",
    "dscrm_test_losses = []\n",
    "im_val_losses = []\n",
    "dscrm_val_losses = []\n",
    "\n",
    "for epoch in range(NUM_EPOCHS):\n",
    "    print(\"running epoch \" + str(epoch)+\"...\")\n",
    "    discriminator.train()\n",
    "    imitator.train()\n",
    "    for batch in range(NUM_BATCHES):\n",
    "        #if batch % 5 == 0:\n",
    "        #    print(\"\\trunning batch \" + str(batch)+\"...\")\n",
    "            \n",
    "        expert_batch_iterator = iter(expert_data_loader)\n",
    "        random_loader_iterator = iter(random_loader)\n",
    "\n",
    "        # train the discrminator network\n",
    "        for _ in range(DISCRIMINATOR_TRAIN_RATIO):\n",
    "            # pass with expert data\n",
    "            expert_X, expert_Y = next(expert_batch_iterator)\n",
    "            expert_X.to(device)\n",
    "            expert_Y.to(device)\n",
    "            discriminator.zero_grad()\n",
    "            expert_output = discriminator.forward(expert_X).squeeze(dim=1)\n",
    "            lossD_expert = loss(expert_output, expert_Y)\n",
    "            lossD_expert.backward()\n",
    "\n",
    "            # pass with imitator data\n",
    "            batch = next(random_loader_iterator)\n",
    "            im_X, im_Y = get_imitator_batch(imitator, batch[0], batch[1],device)\n",
    "            discriminator.zero_grad()\n",
    "            im_output = discriminator.forward(im_X.detach()).squeeze(dim=1)\n",
    "            lossD_im = loss(im_output, im_Y)\n",
    "            lossD_im.backward()\n",
    "\n",
    "            # step\n",
    "            dscrm_optim.step()\n",
    "\n",
    "        # train the imitator network\n",
    "        # use the last batch of imitation data\n",
    "        # Tricky part here is that loss uses expert_Y as the labels\n",
    "        imitator.zero_grad()\n",
    "        batch = next(random_loader_iterator)\n",
    "        im_X, im_Y = get_imitator_batch(imitator, batch[0], batch[1] ,device)\n",
    "        output = discriminator.forward(im_X).squeeze(dim=1)\n",
    "        expert_Y = torch.ones(BATCH_SIZE).float().to(device)\n",
    "        lossI = loss(output, expert_Y)\n",
    "        lossI.backward()\n",
    "        im_optim.step()\n",
    "\n",
    "\n",
    "    # Save test Losses for plotting later\n",
    "    im_test_losses.append((lossD_expert.item()+lossD_im.item())/2)\n",
    "    dscrm_val_losses.append(lossI.item())\n",
    "    \n",
    "    # calculate losses on the validation set\n",
    "    discriminator.eval()\n",
    "    imitator.eval()\n",
    "    \n",
    "    num_val_batches = len(random_val_inputs) // BATCH_SIZE\n",
    "    \n",
    "    im_val_loss = 0\n",
    "    for b in range(num_val_batches):\n",
    "        random_X = random_val_inputs[b * BATCH_SIZE: (b + 1) * BATCH_SIZE]\n",
    "        random_Y = random_val_labels[b * BATCH_SIZE: (b + 1) * BATCH_SIZE]\n",
    "\n",
    "        im_val_X, im_val_Y = get_imitator_batch(imitator, random_X,random_Y,device)\n",
    "        im_val_out = discriminator.forward(im_val_X.detach()).squeeze(dim=1)\n",
    "        im_val_Y = torch.ones(BATCH_SIZE).float().to(device)\n",
    "        im_val_loss += loss(im_val_out, im_val_Y).item()\n",
    "    im_val_losses.append(im_val_loss/num_val_batches)\n",
    "\n",
    "    dscrm_val_loss = 0\n",
    "    for b in range(num_val_batches):\n",
    "        random_X = random_val_inputs[b * BATCH_SIZE: (b + 1) * BATCH_SIZE]\n",
    "        random_Y = random_val_labels[b * BATCH_SIZE: (b + 1) * BATCH_SIZE]\n",
    "\n",
    "        im_val_X, im_val_Y = get_imitator_batch(imitator, random_X,random_Y,device)\n",
    "        fake_out = discriminator.forward(im_val_X.detach()).squeeze(dim=1)\n",
    "        fake_loss = loss(fake_out, im_Y)\n",
    "\n",
    "        expert_X = expert_val_inputs[b * BATCH_SIZE: (b + 1) * BATCH_SIZE]\n",
    "        expert_Y = expert_val_labels[b * BATCH_SIZE: (b + 1) * BATCH_SIZE]\n",
    "        expert_out = discriminator.forward(expert_X.detach()).squeeze(dim=1)\n",
    "        expert_loss = loss(expert_out, expert_Y)\n",
    "        dscrm_val_loss += fake_loss\n",
    "        dscrm_val_loss += expert_loss\n",
    "    dscrm_val_losses.append(dscrm_val_loss/2/num_val_batches)\n",
    "    \n",
    "    \n",
    "    \n",
    "    \n",
    "    if epoch % 25 == 0:\n",
    "        print(\"Finished running epoch: \"+str(epoch)+\"...\")\n",
    "        checkpoint(imitator, discriminator, im_losses, dscrm_losses, epoch)\n"
   ]
  },
  {
   "cell_type": "code",
   "execution_count": 125,
   "id": "10de66a1",
   "metadata": {},
   "outputs": [],
   "source": [
    "\n"
   ]
  },
  {
   "cell_type": "code",
   "execution_count": null,
   "id": "fc38aeea",
   "metadata": {
    "id": "fc38aeea"
   },
   "outputs": [],
   "source": [
    "# save model outputs\n",
    "torch.save(discriminator.state_dict(), 'discriminator.pth')\n",
    "torch.save(imitator.state_dict(),'imitator.pth')\n",
    "with open('losses.pkl', 'wb') as f:\n",
    "    pickle.dump((im_losses, dscrm_losses), f)"
   ]
  },
  {
   "cell_type": "code",
   "execution_count": null,
   "id": "ba5874d9",
   "metadata": {
    "id": "ba5874d9"
   },
   "outputs": [],
   "source": [
    "# recover model parameters, losses, and chart losses\n",
    "imitator = Imitator(state_dim, imitator_outdim)\n",
    "discriminator = Discriminator(discriminator_indim)\n",
    "\n",
    "imitator.load_state_dict(torch.load('imitator.pth'))\n",
    "discriminator.load_state_dict(torch.load('discriminator.pth'))\n",
    "\n",
    "with open('losses.pkl', 'rb') as f:\n",
    "    im_losses, dscrm_losses = pickle.load(f)\n"
   ]
  },
  {
   "cell_type": "code",
   "execution_count": 71,
   "id": "wsItZC2SyiZ4",
   "metadata": {
    "colab": {
     "base_uri": "https://localhost:8080/",
     "height": 472
    },
    "id": "wsItZC2SyiZ4",
    "outputId": "9ab2dff2-9910-4bc4-c52f-119fc62dfdee"
   },
   "outputs": [
    {
     "data": {
      "image/png": "[encoded data removed]",
      "text/plain": [
       "<Figure size 640x480 with 1 Axes>"
      ]
     },
     "metadata": {},
     "output_type": "display_data"
    }
   ],
   "source": [
    "# plot losses\n",
    "import matplotlib.pyplot as plt\n",
    "\n",
    "x = range(len(im_losses))\n",
    "\n",
    "plt.plot(x, im_losses, label='Imitator Loss', color='blue')\n",
    "plt.plot(x, dscrm_losses, label='Discriminator Loss', color='red')\n",
    "plt.xlabel('Epoch')\n",
    "plt.ylabel('Loss')\n",
    "plt.title('GAN Training Loss')\n",
    "plt.legend()\n",
    "plt.show()"
   ]
  },
  {
   "cell_type": "code",
   "execution_count": null,
   "id": "65d68411",
   "metadata": {},
   "outputs": [],
   "source": []
  }
 ],
 "metadata": {
  "accelerator": "GPU",
  "colab": {
   "gpuType": "T4",
   "provenance": []
  },
  "kernelspec": {
   "display_name": "Python 3 (ipykernel)",
   "language": "python",
   "name": "python3"
  },
  "language_info": {
   "codemirror_mode": {
    "name": "ipython",
    "version": 3
   },
   "file_extension": ".py",
   "mimetype": "text/x-python",
   "name": "python",
   "nbconvert_exporter": "python",
   "pygments_lexer": "ipython3",
   "version": "3.10.9"
  }
 },
 "nbformat": 4,
 "nbformat_minor": 5
}
