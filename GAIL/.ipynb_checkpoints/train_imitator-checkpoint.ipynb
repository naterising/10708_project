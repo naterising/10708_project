{
 "cells": [
  {
   "cell_type": "code",
   "execution_count": 2,
   "id": "11f9c165",
   "metadata": {
    "id": "11f9c165"
   },
   "outputs": [],
   "source": [
    "import numpy as np\n",
    "import pandas as pd\n",
    "import torch\n",
    "import torch.nn as nn\n",
    "from torch.utils.data import DataLoader, TensorDataset\n",
    "import random\n",
    "import pickle\n",
    "import torch.optim as optim\n",
    "\n",
    "#import sys\n",
    "#sys.path.append('../simulations')\n",
    "import game_utils"
   ]
  },
  {
   "cell_type": "code",
   "execution_count": 12,
   "id": "2d5bade9",
   "metadata": {
    "id": "2d5bade9"
   },
   "outputs": [],
   "source": [
    "# define helper functions needed to generate a state space\n",
    "def get_action_number():\n",
    "    \"\"\"\n",
    "    Return 0 with prop .5, 1 with prob .5\n",
    "    \"\"\"\n",
    "    p = random.random()\n",
    "    if p <= 0.5:\n",
    "        return 0\n",
    "    else:\n",
    "        return 1\n",
    "\n",
    "def get_banked_score():\n",
    "    \"\"\"\n",
    "    Returns a number 0 to 11000\n",
    "\n",
    "    If the score is over 10000, resample until a score less than 10000\n",
    "    is reached with probability 0.5\n",
    "\n",
    "    \"\"\"\n",
    "\n",
    "    n = random.randint(0, 11000)\n",
    "    p = random.random()\n",
    "\n",
    "    if n > 10000 and p > .5:\n",
    "        n = random.randint(0,10000)\n",
    "\n",
    "    return round(n / 50) * 50\n",
    "\n",
    "\n",
    "def get_dice_num():\n",
    "    \"\"\"\n",
    "    Generates a number between 1 and 6 (inclusive)\n",
    "\n",
    "    Can be used to represent the number of dice available to roll or the\n",
    "    value a dice takes on\n",
    "\n",
    "    \"\"\"\n",
    "    return random.randint(1,6)\n",
    "\n",
    "def get_accrued_score():\n",
    "    \"\"\"\n",
    "    Generates a value for the accrued score.\n",
    "    1. Choose a bucket with some probability\n",
    "    2. Randomly pick a number from that bucket\n",
    "    \"\"\"\n",
    "\n",
    "    p = random.random()\n",
    "\n",
    "    # pull from [50,1000]\n",
    "    if p <= .3:\n",
    "        lo = 0\n",
    "        hi = 0\n",
    "\n",
    "    elif p <= .72:\n",
    "        lo = 50\n",
    "        hi = 1000\n",
    "\n",
    "    # pull from [1000,2000]\n",
    "    elif p <= 0.895:\n",
    "        lo = 1000\n",
    "        hi = 2000\n",
    "\n",
    "    # pull from [2000,5000]\n",
    "    elif p <= 0.965:\n",
    "        lo = 2000\n",
    "        hi = 5000\n",
    "\n",
    "    # pull from [5000,10000]\n",
    "    else:\n",
    "        lo = 5000\n",
    "        hi = 10000\n",
    "\n",
    "    return round(random.randint(lo,hi) / 50) * 50\n",
    "\n",
    "def roll_dice(n):\n",
    "    \"\"\"\n",
    "    Rolls n dice\n",
    "    \"\"\"\n",
    "    possible_values = [1,2,3,4,5,6]\n",
    "\n",
    "    roll = []\n",
    "    for i in range(n):\n",
    "        roll.append(random.choice(possible_values))\n",
    "\n",
    "    return tuple(sorted(roll))\n",
    "\n",
    "\n",
    "# write a function to generate a state space vector\n",
    "def get_state(device):\n",
    "    action = get_action_number()\n",
    "    player_score = get_banked_score()\n",
    "    opp_score = get_banked_score()\n",
    "    accrued_score = get_accrued_score()\n",
    "    num_dice = get_dice_num()\n",
    "    dice = list(np.zeros(6).astype(int))\n",
    "\n",
    "    # simulate a dice roll if action is to choose dice\n",
    "    if action == 1:\n",
    "\n",
    "        # if the number of dice to choose from for an action=1, resample until\n",
    "        # you get num dice > 1. This is becuase this decision is deterministic\n",
    "        while num_dice == 1:\n",
    "            num_dice = get_dice_num()\n",
    "\n",
    "        # make sure the roll is scoring, a non-scoring roll is deterministic\n",
    "        roll = roll_dice(num_dice)\n",
    "        while game_utils.get_highest_choice(game_utils.get_possible_choices(roll)) == 0:\n",
    "            roll = roll_dice(num_dice)\n",
    "\n",
    "        for j in range(num_dice):\n",
    "            dice[j] = get_dice_num()\n",
    "\n",
    "    state = [action, player_score, opp_score, accrued_score, num_dice, dice[0], dice[1], dice[2], dice[3],dice[4],dice[5]]\n",
    "    return torch.tensor(state).float().to(device)\n",
    "\n"
   ]
  },
  {
   "cell_type": "code",
   "execution_count": 4,
   "id": "a24b8673",
   "metadata": {
    "id": "a24b8673"
   },
   "outputs": [],
   "source": [
    "# define dataloader hyper params\n",
    "BATCH_SIZE = 64\n",
    "SHUFFLE = True   # Set to True if you want to shuffle the data"
   ]
  },
  {
   "cell_type": "code",
   "execution_count": 5,
   "id": "0f890ee3",
   "metadata": {
    "id": "0f890ee3"
   },
   "outputs": [],
   "source": [
    "# load in expert data, concatenate state and response, label with 1's\n",
    "#expert_data = pd.read_csv('../simulations/expert_behavior.csv')\n",
    "expert_data = pd.read_csv(\"expert_behavior.csv\")\n",
    "expert_data['label'] = 1\n",
    "\n",
    "inputs = torch.tensor(expert_data.drop('label', axis=1).values, dtype=torch.float32)\n",
    "labels = torch.tensor(expert_data['label'].values, dtype=torch.float32)\n",
    "\n",
    "expert_data = TensorDataset(inputs, labels)\n",
    "expert_data_loader = DataLoader(expert_data, batch_size=BATCH_SIZE, shuffle=SHUFFLE)"
   ]
  },
  {
   "cell_type": "code",
   "execution_count": 6,
   "id": "ed81dfd5",
   "metadata": {
    "id": "ed81dfd5"
   },
   "outputs": [],
   "source": [
    "# function to return a batch of labeled expert data\n",
    "def get_expert_batch(expert_data_loader,device):\n",
    "    batch_inputs, batch_labels = next(iter(expert_data_loader))\n",
    "\n",
    "    return batch_inputs.to(device), batch_labels.to(device)"
   ]
  },
  {
   "cell_type": "code",
   "execution_count": 11,
   "id": "dbfb3901",
   "metadata": {
    "id": "dbfb3901"
   },
   "outputs": [],
   "source": [
    "# function to return a batch of labeled imitator data\n",
    "# requires starting from some space\n",
    "def get_imitator_batch(imitator, batch_size,device):\n",
    "    # first, generate @param batch_size state\n",
    "    states = []\n",
    "    for i in range(batch_size):\n",
    "        states.append(get_state(device))\n",
    "\n",
    "    train_vectors = []\n",
    "    for state in states:\n",
    "        outcome = imitator.forward(state)\n",
    "        train_vectors.append(torch.cat((state,outcome),dim=0))\n",
    "\n",
    "    inputs = torch.stack(train_vectors, dim=0)\n",
    "    labels = torch.zeros((inputs.shape[0],))\n",
    "\n",
    "    return inputs.to(device), labels.to(device)"
   ]
  },
  {
   "cell_type": "code",
   "execution_count": 8,
   "id": "2c0ca55a",
   "metadata": {
    "id": "2c0ca55a"
   },
   "outputs": [],
   "source": [
    "# define imitator (generator) network\n",
    "class Imitator(nn.Module):\n",
    "    def __init__(self, indim, outdim):\n",
    "        super(Imitator, self).__init__()\n",
    "        self.fc1 = nn.Linear(indim, 32)\n",
    "        self.fc2 = nn.Linear(32, 32)\n",
    "        self.fc3 = nn.Linear(32, outdim)\n",
    "\n",
    "        self.relu = nn.ReLU()\n",
    "        self.sigmoid = nn.Sigmoid()\n",
    "\n",
    "    def forward(self, x):\n",
    "        x = self.relu(self.fc1(x))\n",
    "        x = self.relu(self.fc2(x))\n",
    "        x = self.sigmoid(self.fc3(x))\n",
    "\n",
    "        # round values to be either 0 or 1\n",
    "        return torch.round(x)"
   ]
  },
  {
   "cell_type": "code",
   "execution_count": 9,
   "id": "8ebe940c",
   "metadata": {
    "id": "8ebe940c"
   },
   "outputs": [],
   "source": [
    "# define discriminator network\n",
    "# this network outputs the probability that an input vector is from Imitator\n",
    "class Discriminator(nn.Module):\n",
    "    def __init__(self, indim):\n",
    "        super(Discriminator, self).__init__()\n",
    "        self.fc1 = nn.Linear(indim, 48)\n",
    "        self.fc2 = nn.Linear(48, 48)\n",
    "        self.fc3 = nn.Linear(48, 1)\n",
    "\n",
    "        self.relu = nn.ReLU()\n",
    "        self.sigmoid = nn.Sigmoid()\n",
    "\n",
    "    def forward(self, x):\n",
    "\n",
    "        x = self.relu(self.fc1(x))\n",
    "        x = self.relu(self.fc2(x))\n",
    "        x = self.sigmoid(self.fc3(x))\n",
    "\n",
    "        return x\n"
   ]
  },
  {
   "cell_type": "code",
   "execution_count": 14,
   "id": "869040cd",
   "metadata": {
    "colab": {
     "base_uri": "https://localhost:8080/"
    },
    "id": "869040cd",
    "outputId": "cca9a8eb-c32a-4327-ce53-4efaea82a3fc"
   },
   "outputs": [
    {
     "name": "stdout",
     "output_type": "stream",
     "text": [
      "Finished running epoch: 0...\n"
     ]
    }
   ],
   "source": [
    "# set up and run the GAN\n",
    "torch.autograd.set_detect_anomaly(True)\n",
    "\n",
    "# train on GPU if available\n",
    "device = torch.device('cuda' if torch.cuda.is_available() else 'cpu')\n",
    "\n",
    "state_dim = 11\n",
    "imitator_outdim = 6\n",
    "discriminator_indim = 17\n",
    "\n",
    "NUM_EPOCHS = 2\n",
    "\n",
    "# todo: determine number of batches\n",
    "NUM_BATCHES = 5\n",
    "\n",
    "# determines how often discrminiator is trained vs generator\n",
    "DISCRIMINATOR_TRAIN_RATIO = 5\n",
    "\n",
    "\n",
    "# define hyperparameters\n",
    "im_LR = 0.001\n",
    "dscrm_LR = 0.001\n",
    "\n",
    "\n",
    "# initialize networks\n",
    "imitator = Imitator(state_dim, imitator_outdim).to(device)\n",
    "discriminator = Discriminator(discriminator_indim).to(device)\n",
    "\n",
    "# initialize loss functions, optmiizers\n",
    "im_optim = optim.Adam(imitator.parameters(), lr=im_LR)\n",
    "dscrm_optim = optim.Adam(imitator.parameters(), lr=dscrm_LR)\n",
    "\n",
    "# initialize loss function\n",
    "loss = nn.BCELoss()\n",
    "\n",
    "im_losses = []\n",
    "dscrm_losses = []\n",
    "\n",
    "for epoch in range(NUM_EPOCHS):\n",
    "    for batch in range(NUM_BATCHES):\n",
    "\n",
    "        # train the discrminator network\n",
    "        for _ in range(DISCRIMINATOR_TRAIN_RATIO):\n",
    "            # pass with expert data\n",
    "            expert_X, expert_Y = get_expert_batch(expert_data_loader,device)\n",
    "            discriminator.zero_grad()\n",
    "            expert_output = discriminator.forward(expert_X).squeeze(dim=1)\n",
    "            lossD_expert = loss(expert_output, expert_Y)\n",
    "            lossD_expert.backward()\n",
    "\n",
    "            # pass with imitator data\n",
    "            im_X, im_Y = get_imitator_batch(imitator, BATCH_SIZE,device)\n",
    "            discriminator.zero_grad()\n",
    "            im_output = discriminator.forward(im_X.detach()).squeeze(dim=1)\n",
    "            lossD_im = loss(im_output, im_Y)\n",
    "            lossD_im.backward()\n",
    "\n",
    "            # step\n",
    "            dscrm_optim.step()\n",
    "\n",
    "        # train the imitator network\n",
    "        # use the last batch of imitation data\n",
    "        # Tricky part here is that loss uses expert_Y as the labels\n",
    "        imitator.zero_grad()\n",
    "        im_X, im_Y = get_imitator_batch(imitator, BATCH_SIZE,device)\n",
    "        output = discriminator.forward(im_X).squeeze(dim=1)\n",
    "        expert_Y = torch.ones(BATCH_SIZE).float().to(device)\n",
    "        lossI = loss(output, expert_Y)\n",
    "        lossI.backward()\n",
    "        im_optim.step()\n",
    "\n",
    "\n",
    "    # Save Losses for plotting later\n",
    "    im_losses.append((lossD_expert.item()+lossD_im.item())/2)\n",
    "    dscrm_losses.append(lossI.item())\n",
    "    if epoch % 10 == 0:\n",
    "        print(\"Finished running epoch: \"+str(epoch)+\"...\")\n"
   ]
  },
  {
   "cell_type": "code",
   "execution_count": 15,
   "id": "fc38aeea",
   "metadata": {
    "id": "fc38aeea"
   },
   "outputs": [],
   "source": [
    "# save model outputs\n",
    "torch.save(discriminator.state_dict(), 'discriminator.pth')\n",
    "torch.save(imitator.state_dict(),'imitator.pth')\n",
    "with open('losses.pkl', 'wb') as f:\n",
    "    pickle.dump((im_losses, dscrm_losses), f)"
   ]
  },
  {
   "cell_type": "code",
   "execution_count": 16,
   "id": "ba5874d9",
   "metadata": {
    "id": "ba5874d9"
   },
   "outputs": [],
   "source": [
    "# recover model parameters, losses, and chart losses\n",
    "imitator = Imitator(state_dim, imitator_outdim)\n",
    "discriminator = Discriminator(discriminator_indim)\n",
    "\n",
    "imitator.load_state_dict(torch.load('imitator.pth'))\n",
    "discriminator.load_state_dict(torch.load('discriminator.pth'))\n",
    "\n",
    "with open('losses.pkl', 'rb') as f:\n",
    "    im_losses, dscrm_losses = pickle.load(f)\n"
   ]
  },
  {
   "cell_type": "code",
   "execution_count": 17,
   "id": "wsItZC2SyiZ4",
   "metadata": {
    "colab": {
     "base_uri": "https://localhost:8080/",
     "height": 472
    },
    "id": "wsItZC2SyiZ4",
    "outputId": "9ab2dff2-9910-4bc4-c52f-119fc62dfdee"
   },
   "outputs": [
    {
     "data": {
      "image/png": "[encoded data removed]",
      "text/plain": [
       "<Figure size 640x480 with 1 Axes>"
      ]
     },
     "metadata": {},
     "output_type": "display_data"
    }
   ],
   "source": [
    "# plot losses\n",
    "import matplotlib.pyplot as plt\n",
    "\n",
    "x = range(len(im_losses))\n",
    "\n",
    "plt.plot(x, im_losses, label='Imitator Loss', color='blue')\n",
    "plt.plot(x, dscrm_losses, label='Discriminator Loss', color='red')\n",
    "plt.xlabel('Epoch')\n",
    "plt.ylabel('Loss')\n",
    "plt.title('GAN Training Loss')\n",
    "plt.legend()\n",
    "plt.show()"
   ]
  }
 ],
 "metadata": {
  "colab": {
   "provenance": []
  },
  "kernelspec": {
   "display_name": "Python 3 (ipykernel)",
   "language": "python",
   "name": "python3"
  },
  "language_info": {
   "codemirror_mode": {
    "name": "ipython",
    "version": 3
   },
   "file_extension": ".py",
   "mimetype": "text/x-python",
   "name": "python",
   "nbconvert_exporter": "python",
   "pygments_lexer": "ipython3",
   "version": "3.10.9"
  }
 },
 "nbformat": 4,
 "nbformat_minor": 5
}
